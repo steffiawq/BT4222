{
 "cells": [
  {
   "cell_type": "code",
   "execution_count": 74,
   "metadata": {
    "colab": {
     "base_uri": "https://localhost:8080/"
    },
    "id": "YiRRsugRneEL",
    "outputId": "0be1c179-397f-4a08-af77-eaa77ea532f5"
   },
   "outputs": [],
   "source": [
    "import time\n",
    "from selenium import webdriver\n",
    "from selenium.webdriver.common.keys import Keys\n",
    "import pandas as pd\n",
    "\n",
    "\n",
    "\n"
   ]
  },
  {
   "cell_type": "code",
   "execution_count": 124,
   "metadata": {
    "colab": {
     "base_uri": "https://localhost:8080/",
     "height": 426
    },
    "id": "RVewZGS-oH9s",
    "outputId": "cdbf7e8f-1f4a-48f0-de8a-d41defdbb4be"
   },
   "outputs": [],
   "source": [
    "\n",
    "driver = webdriver.Chrome(\"/Users/kevan_chew/Desktop/chromedriver\")\n",
    "url = \"https://seekingalpha.com/symbol/TSLA/news\"\n",
    "driver.get(url)\n",
    "time.sleep(2)"
   ]
  },
  {
   "cell_type": "code",
   "execution_count": null,
   "metadata": {
    "id": "NE3C_x3KoylM"
   },
   "outputs": [],
   "source": []
  },
  {
   "cell_type": "code",
   "execution_count": 121,
   "metadata": {
    "id": "54mDfyVZneEM"
   },
   "outputs": [],
   "source": [
    "scroll_pause_time = 1 # You can set your own pause time. My laptop is a bit slow so I use 1 sec\n",
    "screen_height = driver.execute_script(\"return window.screen.height;\")   # get the screen height of the web\n",
    "i = 1\n",
    "scroll_height = 40000\n",
    "\n",
    "while True:\n",
    "    # scroll one screen height each time\n",
    "    driver.execute_script(\"window.scrollTo(0, {screen_height}*{i});\".format(screen_height=screen_height, i=i))  \n",
    "    i += 1\n",
    "    time.sleep(scroll_pause_time)\n",
    "    # update scroll height each time after scrolled, as the scroll height can change after we scrolled the page\n",
    "    #scroll_height = driver.execute_script(\"return document.body.scrollHeight;\")  \n",
    "    # Break the loop when the height we need to scroll to is larger than the total scroll height\n",
    "    if (screen_height) * i > scroll_height:\n",
    "        break\n",
    "\n"
   ]
  },
  {
   "cell_type": "code",
   "execution_count": 106,
   "metadata": {},
   "outputs": [],
   "source": [
    "SCROLL_PAUSE_TIME = 1\n",
    "\n",
    "# Get scroll height\n",
    "last_height = driver.execute_script(\"return window.screen.height;\")\n",
    "\n",
    "while True:\n",
    "    # Scroll down to bottom\n",
    "    driver.execute_script(\"window.scrollTo(0, {screen_height}*{i});\".format(screen_height=screen_height, i=i))\n",
    "\n",
    "    # Wait to load page\n",
    "    time.sleep(SCROLL_PAUSE_TIME)\n",
    "\n",
    "    # Calculate new scroll height and compare with last scroll height\n",
    "    new_height = driver.execute_script(\"window.scrollTo(0, {screen_height}*{i});\".format(screen_height=screen_height, i=i))\n",
    "    if new_height == last_height:\n",
    "        break\n",
    "    last_height = new_height\n",
    "    "
   ]
  },
  {
   "cell_type": "code",
   "execution_count": 123,
   "metadata": {
    "id": "nBSh_IiUneEN",
    "outputId": "15c044e7-41d3-4f7e-ff2d-4341b34fe751"
   },
   "outputs": [],
   "source": [
    "headlines = []\n",
    "for i in range(719):\n",
    "    first = \"//*[@id='root']/div[1]/main/div[2]/div/div[4]/div/div/section/div/div[2]/div[2]/article[\"\n",
    "    second = \"]/div/div/div/div/h3/a\"\n",
    "    element = driver.find_element_by_xpath(first + str(i+1) + second).text\n",
    "    headlines.append(element)\n",
    "headlines\n",
    "\n",
    "SA_headlines = pd.DataFrame(\n",
    "    {'Headlines': headlines})\n",
    "\n",
    "SA_headlines.to_csv(r'/Volumes/GoogleDrive/My Drive/BT4222 (Personal)/Group Project/SeekingAlpha_headlines.csv')"
   ]
  },
  {
   "cell_type": "code",
   "execution_count": 141,
   "metadata": {},
   "outputs": [],
   "source": [
    "from selenium.common.exceptions import NoSuchElementException\n"
   ]
  },
  {
   "cell_type": "code",
   "execution_count": 147,
   "metadata": {
    "id": "R9b8pvsUneEO"
   },
   "outputs": [],
   "source": [
    "day = []\n",
    "month = []\n",
    "date = []\n",
    "author = []\n",
    "comments = []\n",
    "year = []\n",
    "\n",
    "for i in range(719):\n",
    "    first = \"//*[@id='root']/div[1]/main/div[2]/div/div[4]/div/div/section/div/div[2]/div[2]/article[\"\n",
    "    date_second = \"]/div/div/div/div/div/span[2]\"\n",
    "    comments_second = \"]/div/div/div/div/div/a\"\n",
    "    \n",
    "    try: \n",
    "        dateText = driver.find_element_by_xpath(first + str(i+1) + date_second).text\n",
    "        commentsText = driver.find_element_by_xpath(first + str(i+1) + comments_second).text\n",
    "    \n",
    "    except NoSuchElementException:\n",
    "        pass\n",
    "    \n",
    "    if(len(dateText.split(sep = \",\")) == 2):\n",
    "        year.append(\"2021\")\n",
    "    else:\n",
    "        year.append(dateText.split(sep = \",\")[2])\n",
    "    \n",
    "    day.append(dateText.split(sep = \",\")[0])\n",
    "    month.append(dateText.split(sep = \",\")[1][1:].split(sep = \" \")[0][:3])\n",
    "    date.append(dateText.split(sep = \",\")[1][1:].split(sep = \" \")[1])\n",
    "    author.append(\"SA News\")\n",
    "    comments.append(commentsText[:-9])\n",
    "    \n",
    "    \n"
   ]
  },
  {
   "cell_type": "code",
   "execution_count": 149,
   "metadata": {},
   "outputs": [
    {
     "data": {
      "text/plain": [
       "719"
      ]
     },
     "execution_count": 149,
     "metadata": {},
     "output_type": "execute_result"
    }
   ],
   "source": []
  },
  {
   "cell_type": "code",
   "execution_count": 139,
   "metadata": {
    "id": "lka98k2OneEO",
    "outputId": "f14aaf03-a65c-4e11-a202-dcbf29864d1c"
   },
   "outputs": [],
   "source": [
    "for i in range(202,248):\n",
    "    first = \"//*[@id='root']/div[1]/main/div[2]/div/div[4]/div/div/section/div/div[2]/div[2]/article[\"\n",
    "    date_second = \"]/div/div/div/div/div/span[2]\"\n",
    "    comments_second = \"]/div/div/div/div/div/a\"\n",
    "    \n",
    "    dateText = driver.find_element_by_xpath(first + str(i+1) + date_second).text\n",
    "    commentsText = driver.find_element_by_xpath(first + str(i+1) + comments_second).text\n",
    "    \n",
    "    if(len(dateText.split(sep = \",\")) == 2):\n",
    "        year.append(\"2021\")\n",
    "    else:\n",
    "        year.append(dateText.split(sep = \",\")[2])\n",
    "    \n",
    "    day.append(dateText.split(sep = \",\")[0])\n",
    "    month.append(dateText.split(sep = \",\")[1][1:].split(sep = \" \")[0][:3])\n",
    "    date.append(dateText.split(sep = \",\")[1][1:].split(sep = \" \")[1])\n",
    "    author.append(\"SA News\")\n",
    "    comments.append(commentsText[:-9])\n"
   ]
  },
  {
   "cell_type": "code",
   "execution_count": 140,
   "metadata": {},
   "outputs": [
    {
     "ename": "NoSuchElementException",
     "evalue": "Message: no such element: Unable to locate element: {\"method\":\"xpath\",\"selector\":\"//*[@id='root']/div[1]/main/div[2]/div/div[4]/div/div/section/div/div[2]/div[2]/article[289]/div/div/div/div/div/a\"}\n  (Session info: chrome=89.0.4389.90)\n",
     "output_type": "error",
     "traceback": [
      "\u001b[0;31m---------------------------------------------------------------------------\u001b[0m",
      "\u001b[0;31mNoSuchElementException\u001b[0m                    Traceback (most recent call last)",
      "\u001b[0;32m<ipython-input-140-f7f621505f69>\u001b[0m in \u001b[0;36m<module>\u001b[0;34m\u001b[0m\n\u001b[1;32m      5\u001b[0m \u001b[0;34m\u001b[0m\u001b[0m\n\u001b[1;32m      6\u001b[0m     \u001b[0mdateText\u001b[0m \u001b[0;34m=\u001b[0m \u001b[0mdriver\u001b[0m\u001b[0;34m.\u001b[0m\u001b[0mfind_element_by_xpath\u001b[0m\u001b[0;34m(\u001b[0m\u001b[0mfirst\u001b[0m \u001b[0;34m+\u001b[0m \u001b[0mstr\u001b[0m\u001b[0;34m(\u001b[0m\u001b[0mi\u001b[0m\u001b[0;34m+\u001b[0m\u001b[0;36m1\u001b[0m\u001b[0;34m)\u001b[0m \u001b[0;34m+\u001b[0m \u001b[0mdate_second\u001b[0m\u001b[0;34m)\u001b[0m\u001b[0;34m.\u001b[0m\u001b[0mtext\u001b[0m\u001b[0;34m\u001b[0m\u001b[0;34m\u001b[0m\u001b[0m\n\u001b[0;32m----> 7\u001b[0;31m     \u001b[0mcommentsText\u001b[0m \u001b[0;34m=\u001b[0m \u001b[0mdriver\u001b[0m\u001b[0;34m.\u001b[0m\u001b[0mfind_element_by_xpath\u001b[0m\u001b[0;34m(\u001b[0m\u001b[0mfirst\u001b[0m \u001b[0;34m+\u001b[0m \u001b[0mstr\u001b[0m\u001b[0;34m(\u001b[0m\u001b[0mi\u001b[0m\u001b[0;34m+\u001b[0m\u001b[0;36m1\u001b[0m\u001b[0;34m)\u001b[0m \u001b[0;34m+\u001b[0m \u001b[0mcomments_second\u001b[0m\u001b[0;34m)\u001b[0m\u001b[0;34m.\u001b[0m\u001b[0mtext\u001b[0m\u001b[0;34m\u001b[0m\u001b[0;34m\u001b[0m\u001b[0m\n\u001b[0m\u001b[1;32m      8\u001b[0m \u001b[0;34m\u001b[0m\u001b[0m\n\u001b[1;32m      9\u001b[0m     \u001b[0;32mif\u001b[0m\u001b[0;34m(\u001b[0m\u001b[0mlen\u001b[0m\u001b[0;34m(\u001b[0m\u001b[0mdateText\u001b[0m\u001b[0;34m.\u001b[0m\u001b[0msplit\u001b[0m\u001b[0;34m(\u001b[0m\u001b[0msep\u001b[0m \u001b[0;34m=\u001b[0m \u001b[0;34m\",\"\u001b[0m\u001b[0;34m)\u001b[0m\u001b[0;34m)\u001b[0m \u001b[0;34m==\u001b[0m \u001b[0;36m2\u001b[0m\u001b[0;34m)\u001b[0m\u001b[0;34m:\u001b[0m\u001b[0;34m\u001b[0m\u001b[0;34m\u001b[0m\u001b[0m\n",
      "\u001b[0;32m~/opt/anaconda3/lib/python3.8/site-packages/selenium/webdriver/remote/webdriver.py\u001b[0m in \u001b[0;36mfind_element_by_xpath\u001b[0;34m(self, xpath)\u001b[0m\n\u001b[1;32m    392\u001b[0m             \u001b[0melement\u001b[0m \u001b[0;34m=\u001b[0m \u001b[0mdriver\u001b[0m\u001b[0;34m.\u001b[0m\u001b[0mfind_element_by_xpath\u001b[0m\u001b[0;34m(\u001b[0m\u001b[0;34m'//div/td[1]'\u001b[0m\u001b[0;34m)\u001b[0m\u001b[0;34m\u001b[0m\u001b[0;34m\u001b[0m\u001b[0m\n\u001b[1;32m    393\u001b[0m         \"\"\"\n\u001b[0;32m--> 394\u001b[0;31m         \u001b[0;32mreturn\u001b[0m \u001b[0mself\u001b[0m\u001b[0;34m.\u001b[0m\u001b[0mfind_element\u001b[0m\u001b[0;34m(\u001b[0m\u001b[0mby\u001b[0m\u001b[0;34m=\u001b[0m\u001b[0mBy\u001b[0m\u001b[0;34m.\u001b[0m\u001b[0mXPATH\u001b[0m\u001b[0;34m,\u001b[0m \u001b[0mvalue\u001b[0m\u001b[0;34m=\u001b[0m\u001b[0mxpath\u001b[0m\u001b[0;34m)\u001b[0m\u001b[0;34m\u001b[0m\u001b[0;34m\u001b[0m\u001b[0m\n\u001b[0m\u001b[1;32m    395\u001b[0m \u001b[0;34m\u001b[0m\u001b[0m\n\u001b[1;32m    396\u001b[0m     \u001b[0;32mdef\u001b[0m \u001b[0mfind_elements_by_xpath\u001b[0m\u001b[0;34m(\u001b[0m\u001b[0mself\u001b[0m\u001b[0;34m,\u001b[0m \u001b[0mxpath\u001b[0m\u001b[0;34m)\u001b[0m\u001b[0;34m:\u001b[0m\u001b[0;34m\u001b[0m\u001b[0;34m\u001b[0m\u001b[0m\n",
      "\u001b[0;32m~/opt/anaconda3/lib/python3.8/site-packages/selenium/webdriver/remote/webdriver.py\u001b[0m in \u001b[0;36mfind_element\u001b[0;34m(self, by, value)\u001b[0m\n\u001b[1;32m    974\u001b[0m                 \u001b[0mby\u001b[0m \u001b[0;34m=\u001b[0m \u001b[0mBy\u001b[0m\u001b[0;34m.\u001b[0m\u001b[0mCSS_SELECTOR\u001b[0m\u001b[0;34m\u001b[0m\u001b[0;34m\u001b[0m\u001b[0m\n\u001b[1;32m    975\u001b[0m                 \u001b[0mvalue\u001b[0m \u001b[0;34m=\u001b[0m \u001b[0;34m'[name=\"%s\"]'\u001b[0m \u001b[0;34m%\u001b[0m \u001b[0mvalue\u001b[0m\u001b[0;34m\u001b[0m\u001b[0;34m\u001b[0m\u001b[0m\n\u001b[0;32m--> 976\u001b[0;31m         return self.execute(Command.FIND_ELEMENT, {\n\u001b[0m\u001b[1;32m    977\u001b[0m             \u001b[0;34m'using'\u001b[0m\u001b[0;34m:\u001b[0m \u001b[0mby\u001b[0m\u001b[0;34m,\u001b[0m\u001b[0;34m\u001b[0m\u001b[0;34m\u001b[0m\u001b[0m\n\u001b[1;32m    978\u001b[0m             'value': value})['value']\n",
      "\u001b[0;32m~/opt/anaconda3/lib/python3.8/site-packages/selenium/webdriver/remote/webdriver.py\u001b[0m in \u001b[0;36mexecute\u001b[0;34m(self, driver_command, params)\u001b[0m\n\u001b[1;32m    319\u001b[0m         \u001b[0mresponse\u001b[0m \u001b[0;34m=\u001b[0m \u001b[0mself\u001b[0m\u001b[0;34m.\u001b[0m\u001b[0mcommand_executor\u001b[0m\u001b[0;34m.\u001b[0m\u001b[0mexecute\u001b[0m\u001b[0;34m(\u001b[0m\u001b[0mdriver_command\u001b[0m\u001b[0;34m,\u001b[0m \u001b[0mparams\u001b[0m\u001b[0;34m)\u001b[0m\u001b[0;34m\u001b[0m\u001b[0;34m\u001b[0m\u001b[0m\n\u001b[1;32m    320\u001b[0m         \u001b[0;32mif\u001b[0m \u001b[0mresponse\u001b[0m\u001b[0;34m:\u001b[0m\u001b[0;34m\u001b[0m\u001b[0;34m\u001b[0m\u001b[0m\n\u001b[0;32m--> 321\u001b[0;31m             \u001b[0mself\u001b[0m\u001b[0;34m.\u001b[0m\u001b[0merror_handler\u001b[0m\u001b[0;34m.\u001b[0m\u001b[0mcheck_response\u001b[0m\u001b[0;34m(\u001b[0m\u001b[0mresponse\u001b[0m\u001b[0;34m)\u001b[0m\u001b[0;34m\u001b[0m\u001b[0;34m\u001b[0m\u001b[0m\n\u001b[0m\u001b[1;32m    322\u001b[0m             response['value'] = self._unwrap_value(\n\u001b[1;32m    323\u001b[0m                 response.get('value', None))\n",
      "\u001b[0;32m~/opt/anaconda3/lib/python3.8/site-packages/selenium/webdriver/remote/errorhandler.py\u001b[0m in \u001b[0;36mcheck_response\u001b[0;34m(self, response)\u001b[0m\n\u001b[1;32m    240\u001b[0m                 \u001b[0malert_text\u001b[0m \u001b[0;34m=\u001b[0m \u001b[0mvalue\u001b[0m\u001b[0;34m[\u001b[0m\u001b[0;34m'alert'\u001b[0m\u001b[0;34m]\u001b[0m\u001b[0;34m.\u001b[0m\u001b[0mget\u001b[0m\u001b[0;34m(\u001b[0m\u001b[0;34m'text'\u001b[0m\u001b[0;34m)\u001b[0m\u001b[0;34m\u001b[0m\u001b[0;34m\u001b[0m\u001b[0m\n\u001b[1;32m    241\u001b[0m             \u001b[0;32mraise\u001b[0m \u001b[0mexception_class\u001b[0m\u001b[0;34m(\u001b[0m\u001b[0mmessage\u001b[0m\u001b[0;34m,\u001b[0m \u001b[0mscreen\u001b[0m\u001b[0;34m,\u001b[0m \u001b[0mstacktrace\u001b[0m\u001b[0;34m,\u001b[0m \u001b[0malert_text\u001b[0m\u001b[0;34m)\u001b[0m\u001b[0;34m\u001b[0m\u001b[0;34m\u001b[0m\u001b[0m\n\u001b[0;32m--> 242\u001b[0;31m         \u001b[0;32mraise\u001b[0m \u001b[0mexception_class\u001b[0m\u001b[0;34m(\u001b[0m\u001b[0mmessage\u001b[0m\u001b[0;34m,\u001b[0m \u001b[0mscreen\u001b[0m\u001b[0;34m,\u001b[0m \u001b[0mstacktrace\u001b[0m\u001b[0;34m)\u001b[0m\u001b[0;34m\u001b[0m\u001b[0;34m\u001b[0m\u001b[0m\n\u001b[0m\u001b[1;32m    243\u001b[0m \u001b[0;34m\u001b[0m\u001b[0m\n\u001b[1;32m    244\u001b[0m     \u001b[0;32mdef\u001b[0m \u001b[0m_value_or_default\u001b[0m\u001b[0;34m(\u001b[0m\u001b[0mself\u001b[0m\u001b[0;34m,\u001b[0m \u001b[0mobj\u001b[0m\u001b[0;34m,\u001b[0m \u001b[0mkey\u001b[0m\u001b[0;34m,\u001b[0m \u001b[0mdefault\u001b[0m\u001b[0;34m)\u001b[0m\u001b[0;34m:\u001b[0m\u001b[0;34m\u001b[0m\u001b[0;34m\u001b[0m\u001b[0m\n",
      "\u001b[0;31mNoSuchElementException\u001b[0m: Message: no such element: Unable to locate element: {\"method\":\"xpath\",\"selector\":\"//*[@id='root']/div[1]/main/div[2]/div/div[4]/div/div/section/div/div[2]/div[2]/article[289]/div/div/div/div/div/a\"}\n  (Session info: chrome=89.0.4389.90)\n"
     ]
    }
   ],
   "source": [
    "for i in range(250,28):\n",
    "    first = \"//*[@id='root']/div[1]/main/div[2]/div/div[4]/div/div/section/div/div[2]/div[2]/article[\"\n",
    "    date_second = \"]/div/div/div/div/div/span[2]\"\n",
    "    comments_second = \"]/div/div/div/div/div/a\"\n",
    "    \n",
    "    dateText = driver.find_element_by_xpath(first + str(i+1) + date_second).text\n",
    "    commentsText = driver.find_element_by_xpath(first + str(i+1) + comments_second).text\n",
    "    \n",
    "    if(len(dateText.split(sep = \",\")) == 2):\n",
    "        year.append(\"2021\")\n",
    "    else:\n",
    "        year.append(dateText.split(sep = \",\")[2])\n",
    "    \n",
    "    day.append(dateText.split(sep = \",\")[0])\n",
    "    month.append(dateText.split(sep = \",\")[1][1:].split(sep = \" \")[0][:3])\n",
    "    date.append(dateText.split(sep = \",\")[1][1:].split(sep = \" \")[1])\n",
    "    author.append(\"SA News\")\n",
    "    comments.append(commentsText[:-9]) "
   ]
  },
  {
   "cell_type": "code",
   "execution_count": 155,
   "metadata": {
    "id": "t4vKbbZuneEO",
    "outputId": "b7a3c8b9-64fe-48d1-92ee-560769e7c7f5"
   },
   "outputs": [
    {
     "data": {
      "text/html": [
       "<div>\n",
       "<style scoped>\n",
       "    .dataframe tbody tr th:only-of-type {\n",
       "        vertical-align: middle;\n",
       "    }\n",
       "\n",
       "    .dataframe tbody tr th {\n",
       "        vertical-align: top;\n",
       "    }\n",
       "\n",
       "    .dataframe thead th {\n",
       "        text-align: right;\n",
       "    }\n",
       "</style>\n",
       "<table border=\"1\" class=\"dataframe\">\n",
       "  <thead>\n",
       "    <tr style=\"text-align: right;\">\n",
       "      <th></th>\n",
       "      <th>Headlines</th>\n",
       "      <th>Day</th>\n",
       "      <th>Month</th>\n",
       "      <th>Date</th>\n",
       "      <th>Year</th>\n",
       "      <th>No. Comments</th>\n",
       "      <th>Author</th>\n",
       "    </tr>\n",
       "  </thead>\n",
       "  <tbody>\n",
       "    <tr>\n",
       "      <th>0</th>\n",
       "      <td>Tesla won't share data from its cars with U.S....</td>\n",
       "      <td>Yesterday</td>\n",
       "      <td>10:</td>\n",
       "      <td>PM</td>\n",
       "      <td>2021</td>\n",
       "      <td>64</td>\n",
       "      <td>SA News</td>\n",
       "    </tr>\n",
       "    <tr>\n",
       "      <th>1</th>\n",
       "      <td>ARK Invest fires off $3,000 price target on Tesla</td>\n",
       "      <td>Yesterday</td>\n",
       "      <td>1:2</td>\n",
       "      <td>PM</td>\n",
       "      <td>2021</td>\n",
       "      <td>598</td>\n",
       "      <td>SA News</td>\n",
       "    </tr>\n",
       "    <tr>\n",
       "      <th>2</th>\n",
       "      <td>U.S. regulators are looking at nearly two doze...</td>\n",
       "      <td>Fri</td>\n",
       "      <td>Mar</td>\n",
       "      <td>19</td>\n",
       "      <td>2021</td>\n",
       "      <td>234</td>\n",
       "      <td>SA News</td>\n",
       "    </tr>\n",
       "    <tr>\n",
       "      <th>3</th>\n",
       "      <td>Tesla cars banned by Chinese military over cam...</td>\n",
       "      <td>Fri</td>\n",
       "      <td>Mar</td>\n",
       "      <td>19</td>\n",
       "      <td>2021</td>\n",
       "      <td>166</td>\n",
       "      <td>SA News</td>\n",
       "    </tr>\n",
       "    <tr>\n",
       "      <th>4</th>\n",
       "      <td>Tesla priced out of new UK list for EV subsidies</td>\n",
       "      <td>Thu</td>\n",
       "      <td>Mar</td>\n",
       "      <td>18</td>\n",
       "      <td>2021</td>\n",
       "      <td>200</td>\n",
       "      <td>SA News</td>\n",
       "    </tr>\n",
       "    <tr>\n",
       "      <th>...</th>\n",
       "      <td>...</td>\n",
       "      <td>...</td>\n",
       "      <td>...</td>\n",
       "      <td>...</td>\n",
       "      <td>...</td>\n",
       "      <td>...</td>\n",
       "      <td>...</td>\n",
       "    </tr>\n",
       "    <tr>\n",
       "      <th>702</th>\n",
       "      <td>Record year for Tesla in Norway</td>\n",
       "      <td>Fri</td>\n",
       "      <td>Jan</td>\n",
       "      <td>03</td>\n",
       "      <td>2020</td>\n",
       "      <td>144</td>\n",
       "      <td>SA News</td>\n",
       "    </tr>\n",
       "    <tr>\n",
       "      <th>703</th>\n",
       "      <td>Tesla slashes price of China-made Model 3</td>\n",
       "      <td>Fri</td>\n",
       "      <td>Jan</td>\n",
       "      <td>03</td>\n",
       "      <td>2020</td>\n",
       "      <td>253</td>\n",
       "      <td>SA News</td>\n",
       "    </tr>\n",
       "    <tr>\n",
       "      <th>704</th>\n",
       "      <td>Canaccord Genuity fires off Street-high PT on ...</td>\n",
       "      <td>Thu</td>\n",
       "      <td>Jan</td>\n",
       "      <td>02</td>\n",
       "      <td>2020</td>\n",
       "      <td>182</td>\n",
       "      <td>SA News</td>\n",
       "    </tr>\n",
       "    <tr>\n",
       "      <th>705</th>\n",
       "      <td>First customers to receive China-made Model 3s</td>\n",
       "      <td>Thu</td>\n",
       "      <td>Jan</td>\n",
       "      <td>02</td>\n",
       "      <td>2020</td>\n",
       "      <td>83</td>\n",
       "      <td>SA News</td>\n",
       "    </tr>\n",
       "    <tr>\n",
       "      <th>706</th>\n",
       "      <td>Tesla faces lawsuit claiming racism</td>\n",
       "      <td>Wed</td>\n",
       "      <td>Jan</td>\n",
       "      <td>01</td>\n",
       "      <td>2020</td>\n",
       "      <td>236</td>\n",
       "      <td>SA News</td>\n",
       "    </tr>\n",
       "  </tbody>\n",
       "</table>\n",
       "<p>707 rows × 7 columns</p>\n",
       "</div>"
      ],
      "text/plain": [
       "                                             Headlines        Day Month Date  \\\n",
       "0    Tesla won't share data from its cars with U.S....  Yesterday   10:   PM   \n",
       "1    ARK Invest fires off $3,000 price target on Tesla  Yesterday   1:2   PM   \n",
       "2    U.S. regulators are looking at nearly two doze...        Fri   Mar   19   \n",
       "3    Tesla cars banned by Chinese military over cam...        Fri   Mar   19   \n",
       "4     Tesla priced out of new UK list for EV subsidies        Thu   Mar   18   \n",
       "..                                                 ...        ...   ...  ...   \n",
       "702                    Record year for Tesla in Norway        Fri   Jan   03   \n",
       "703          Tesla slashes price of China-made Model 3        Fri   Jan   03   \n",
       "704  Canaccord Genuity fires off Street-high PT on ...        Thu   Jan   02   \n",
       "705     First customers to receive China-made Model 3s        Thu   Jan   02   \n",
       "706                Tesla faces lawsuit claiming racism        Wed   Jan   01   \n",
       "\n",
       "      Year No. Comments   Author  \n",
       "0     2021           64  SA News  \n",
       "1     2021          598  SA News  \n",
       "2     2021          234  SA News  \n",
       "3     2021          166  SA News  \n",
       "4     2021          200  SA News  \n",
       "..     ...          ...      ...  \n",
       "702   2020          144  SA News  \n",
       "703   2020          253  SA News  \n",
       "704   2020          182  SA News  \n",
       "705   2020           83  SA News  \n",
       "706   2020          236  SA News  \n",
       "\n",
       "[707 rows x 7 columns]"
      ]
     },
     "execution_count": 155,
     "metadata": {},
     "output_type": "execute_result"
    }
   ],
   "source": [
    "import pandas as pd\n",
    "\n",
    "SA = pd.DataFrame(\n",
    "    {'Headlines': headlines,\n",
    "     'Day': day,\n",
    "     \"Month\": month,\n",
    "     'Date': date,\n",
    "     \"Year\" : year,\n",
    "     'No. Comments': comments,\n",
    "     'Author': author\n",
    "    })\n",
    "\n",
    "SA\n",
    "\n",
    "SA = SA[:707]\n",
    "SA"
   ]
  },
  {
   "cell_type": "code",
   "execution_count": 156,
   "metadata": {
    "id": "YpTY370jneEP"
   },
   "outputs": [],
   "source": [
    "SA.to_csv(r'/Volumes/GoogleDrive/My Drive/BT4222 (Personal)/Group Project/SeekingAlpha.csv')"
   ]
  }
 ],
 "metadata": {
  "colab": {
   "name": "Scraping SeekingAlpha_News.ipynb",
   "provenance": []
  },
  "kernelspec": {
   "display_name": "Python 3",
   "language": "python",
   "name": "python3"
  },
  "language_info": {
   "codemirror_mode": {
    "name": "ipython",
    "version": 3
   },
   "file_extension": ".py",
   "mimetype": "text/x-python",
   "name": "python",
   "nbconvert_exporter": "python",
   "pygments_lexer": "ipython3",
   "version": "3.8.5"
  }
 },
 "nbformat": 4,
 "nbformat_minor": 1
}
